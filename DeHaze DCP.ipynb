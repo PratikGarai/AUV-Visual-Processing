{
 "cells": [
  {
   "cell_type": "code",
   "execution_count": 19,
   "metadata": {},
   "outputs": [
    {
     "name": "stderr",
     "output_type": "stream",
     "text": [
      "Matplotlib is building the font cache; this may take a moment.\n"
     ]
    }
   ],
   "source": [
    "import numpy\n",
    "import cv2 as cv\n",
    "import matplotlib.pyplot as plt"
   ]
  },
  {
   "cell_type": "code",
   "execution_count": 20,
   "metadata": {},
   "outputs": [],
   "source": [
    "def display_image(img,name):\n",
    "    cv.imshow(name,img)\n",
    "    cv.waitKey()\n",
    "    cv.destroyAllWindows()"
   ]
  },
  {
   "cell_type": "code",
   "execution_count": 54,
   "metadata": {},
   "outputs": [],
   "source": [
    "def print_histogram(img):\n",
    "    color = ('b','g','r')\n",
    "    for i,color in enumerate(color):\n",
    "        histogram = cv.calcHist([img], [i], None, [256], [0,256])\n",
    "        #uncomment this to generate separate histograms\n",
    "        #plt.subplot(3,1,i+1)\n",
    "        plt.plot(histogram,color)\n",
    "        plt.xlim([0,256])\n",
    "    plt.show()"
   ]
  },
  {
   "cell_type": "code",
   "execution_count": 55,
   "metadata": {},
   "outputs": [],
   "source": [
    "def get_dark_channel(img,size):\n",
    "    blue,green,red = cv.split(img)\n",
    "    dc = cv.min(cv.min(blue,green),red)"
   ]
  },
  {
   "cell_type": "code",
   "execution_count": 56,
   "metadata": {},
   "outputs": [],
   "source": [
    "img_name = 'images/hazy1.jpg'\n",
    "img_input = cv.imread(img_name)\n",
    "img_input = cv.resize(img_input, (700,700), 2,2,cv.INTER_AREA)\n",
    "\n",
    "#color histogram\n",
    "#print_histogram(img_input)\n",
    "\n"
   ]
  },
  {
   "cell_type": "code",
   "execution_count": null,
   "metadata": {},
   "outputs": [],
   "source": []
  }
 ],
 "metadata": {
  "kernelspec": {
   "display_name": "Python 3",
   "language": "python",
   "name": "python3"
  },
  "language_info": {
   "codemirror_mode": {
    "name": "ipython",
    "version": 3
   },
   "file_extension": ".py",
   "mimetype": "text/x-python",
   "name": "python",
   "nbconvert_exporter": "python",
   "pygments_lexer": "ipython3",
   "version": "3.8.5"
  }
 },
 "nbformat": 4,
 "nbformat_minor": 4
}
