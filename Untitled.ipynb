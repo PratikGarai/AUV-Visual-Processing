{
 "cells": [
  {
   "cell_type": "code",
   "execution_count": 1,
   "metadata": {},
   "outputs": [],
   "source": [
    "import cv2\n",
    "import numpy"
   ]
  },
  {
   "cell_type": "code",
   "execution_count": 2,
   "metadata": {},
   "outputs": [],
   "source": [
    "def split_rgb(image):\n",
    "    blue, green, red = cv2.split(image)\n",
    "    return red, green, blue"
   ]
  },
  {
   "cell_type": "code",
   "execution_count": 7,
   "metadata": {},
   "outputs": [],
   "source": [
    "#reduce image to half size\n",
    "def img_reduce(image):\n",
    "    k = np.array([1,4,6,4,1])/16\n",
    "    kernel= (k.T).dot(k)\n",
    "    outimage = cv2.filter2D(image,cv2.CV_64F,kernel)\n",
    "    out = outimage[::2,::2]\n",
    "    return out"
   ]
  },
  {
   "cell_type": "code",
   "execution_count": 6,
   "metadata": {},
   "outputs": [],
   "source": [
    "# expand image to double size\n",
    "def img_expand(image):\n",
    "    k= np.array([1,4,6,4,1])/16\n",
    "    kernel = (h.T).dot(h)\n",
    "    outimage = np.zeros((image.shape[0]*2, image.shape[1]*2), dtype=np.float64)\n",
    "    outimage[::2,::2]=image[:,:]\n",
    "    out = cv2.filter2D(outimage,cv2.CV_64F,kernel)\n",
    "    return out"
   ]
  },
  {
   "cell_type": "code",
   "execution_count": 9,
   "metadata": {},
   "outputs": [],
   "source": [
    "#creation of Gaussian pyramid\n",
    "def gauss_pyramid(image, levels):\n",
    "    output = []\n",
    "    output.append(image)\n",
    "    tmp = image\n",
    "    for i in range(0,levels):\n",
    "        tmp = img_reduce(tmp)\n",
    "        output.append(tmp)\n",
    "    return output"
   ]
  },
  {
   "cell_type": "code",
   "execution_count": 10,
   "metadata": {},
   "outputs": [],
   "source": [
    "#building a laplacian pyramid\n",
    "def lapl_pyramid(gauss_pyr):\n",
    "    output = []\n",
    "    k = len(gauss_pyr)\n",
    "    for i in range(0,k-1):\n",
    "        gauss_unit = gauss_pyr[i]\n",
    "        gauss_unit_expand = img_expand(gauss_pyr[i+1])\n",
    "        if gauss_unit_expand.shape[0] > gauss_unit.shape[0]:\n",
    "            gauss_unit_expand = np.delete(gauss_unit_expand,(-1),axis=0)\n",
    "        if gauss_unit_expand.shape[1] > gauss_unit.shape[1]:\n",
    "            gauss_unit_expand = np.delete(gauss_unit_expand,(-1),axis=1)\n",
    "        output.append(gauss_unit - gauss_unit_expand)\n",
    "    output.append(gauss_pyr.pop())\n",
    "    return output"
   ]
  },
  {
   "cell_type": "code",
   "execution_count": 11,
   "metadata": {},
   "outputs": [],
   "source": [
    "# blend two laplacian pyramids based on gaussian mask\n",
    "def blend(lapl_pyr_white, lapl_pyr_black, gauss_pyr_mask):\n",
    "    blended_pyr = []\n",
    "    k= len(gauss_pyr_mask)\n",
    "    for i in range(0,k):\n",
    "        p1= gauss_pyr_mask[i]*lapl_pyr_white[i]\n",
    "        p2=(1 - gauss_pyr_mask[i])*lapl_pyr_black[i]\n",
    "        blended_pyr.append(p1 + p2)\n",
    "    return blended_pyr"
   ]
  },
  {
   "cell_type": "code",
   "execution_count": 12,
   "metadata": {},
   "outputs": [],
   "source": [
    "#reconstruct the image from its pyramid\n",
    "def collapse(lapl_pyr):\n",
    "    output = None\n",
    "    output = np.zeros((lapl_pyr[0].shape[0],lapl_pyr[0].shape[1]), dtype=np.float64)\n",
    "    for i in range(len(lapl_pyr)-1,0,-1):\n",
    "        lap = iexpand(lapl_pyr[i])\n",
    "        lapb = lapl_pyr[i-1]\n",
    "        if lap.shape[0] > lapb.shape[0]:\n",
    "            lap = np.delete(lap,(-1),axis=0)\n",
    "        if lap.shape[1] > lapb.shape[1]:\n",
    "            lap = np.delete(lap,(-1),axis=1)\n",
    "        tmp = lap + lapb\n",
    "        output = tmp\n",
    "    return output"
   ]
  },
  {
   "cell_type": "code",
   "execution_count": null,
   "metadata": {},
   "outputs": [],
   "source": []
  }
 ],
 "metadata": {
  "kernelspec": {
   "display_name": "Python 3",
   "language": "python",
   "name": "python3"
  },
  "language_info": {
   "codemirror_mode": {
    "name": "ipython",
    "version": 3
   },
   "file_extension": ".py",
   "mimetype": "text/x-python",
   "name": "python",
   "nbconvert_exporter": "python",
   "pygments_lexer": "ipython3",
   "version": "3.8.5"
  }
 },
 "nbformat": 4,
 "nbformat_minor": 4
}
