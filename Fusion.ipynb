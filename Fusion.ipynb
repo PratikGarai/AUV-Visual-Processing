{
 "cells": [
  {
   "cell_type": "code",
   "execution_count": 34,
   "metadata": {
    "collapsed": true
   },
   "outputs": [],
   "source": [
    "import cv2\n",
    "import numpy as np\n",
    "import math\n",
    "from colorbalancer import simplest_cb\n",
    "from sal_detect import saliencyDetection"
   ]
  },
  {
   "cell_type": "code",
   "execution_count": 42,
   "metadata": {},
   "outputs": [],
   "source": [
    "#global variables\n",
    "g_k = np.array([1,4,6,4,1])/16\n",
    "g_kernel= (g_k.T).dot(g_k)"
   ]
  },
  {
   "cell_type": "code",
   "execution_count": 2,
   "metadata": {},
   "outputs": [],
   "source": [
    "def split_rgb(image):\n",
    "    blue, green, red = cv2.split(image)\n",
    "    return red, green, blue"
   ]
  },
  {
   "cell_type": "code",
   "execution_count": 36,
   "metadata": {},
   "outputs": [],
   "source": [
    "#reduce image to half size\n",
    "def img_reduce(image):\n",
    "    outimage = cv2.filter2D(image,cv2.CV_64F,g_kernel)\n",
    "    out = outimage[::2,::2]\n",
    "    return out"
   ]
  },
  {
   "cell_type": "code",
   "execution_count": 37,
   "metadata": {},
   "outputs": [],
   "source": [
    "# expand image to double size\n",
    "def img_expand(image):\n",
    "    outimage = np.zeros((image.shape[0]*2, image.shape[1]*2), dtype=np.float64)\n",
    "    outimage[::2,::2]=image[:,:]\n",
    "    out = cv2.filter2D(outimage,cv2.CV_64F,g_kernel)\n",
    "    return out"
   ]
  },
  {
   "cell_type": "code",
   "execution_count": 38,
   "metadata": {},
   "outputs": [],
   "source": [
    "#creation of Gaussian pyramid\n",
    "def gauss_pyramid(image, levels):\n",
    "    output = []\n",
    "    output.append(image)\n",
    "    tmp = image\n",
    "    for i in range(0,levels):\n",
    "        tmp = img_reduce(tmp)\n",
    "        output.append(tmp)\n",
    "    return output"
   ]
  },
  {
   "cell_type": "code",
   "execution_count": 39,
   "metadata": {},
   "outputs": [],
   "source": [
    "#building a laplacian pyramid\n",
    "def lapl_pyramid(gauss_pyr):\n",
    "    output = []\n",
    "    k = len(gauss_pyr)\n",
    "    for i in range(0,k-1):\n",
    "        gauss_unit = gauss_pyr[i]\n",
    "        gauss_unit_expand = img_expand(gauss_pyr[i+1])\n",
    "        if gauss_unit_expand.shape[0] > gauss_unit.shape[0]:\n",
    "            gauss_unit_expand = np.delete(gauss_unit_expand,(-1),axis=0)\n",
    "        if gauss_unit_expand.shape[1] > gauss_unit.shape[1]:\n",
    "            gauss_unit_expand = np.delete(gauss_unit_expand,(-1),axis=1)\n",
    "        output.append(gauss_unit - gauss_unit_expand)\n",
    "    output.append(gauss_pyr.pop())\n",
    "    return output"
   ]
  },
  {
   "cell_type": "code",
   "execution_count": 40,
   "metadata": {},
   "outputs": [],
   "source": [
    "# blend two laplacian pyramids based on gaussian mask\n",
    "def blend(lapl_pyr_white, lapl_pyr_black, gauss_pyr_mask):\n",
    "    blended_pyr = []\n",
    "    l= len(gauss_pyr_mask)\n",
    "    for i in range(0,l):\n",
    "        p1= gauss_pyr_mask[i]*lapl_pyr_white[i]\n",
    "        p2=(1 - gauss_pyr_mask[i])*lapl_pyr_black[i]\n",
    "        blended_pyr.append(p1 + p2)\n",
    "    return blended_pyr"
   ]
  },
  {
   "cell_type": "code",
   "execution_count": 49,
   "metadata": {},
   "outputs": [],
   "source": [
    "#reconstruct the image from its pyramid\n",
    "def collapse(lapl_pyr):\n",
    "    output = None\n",
    "    output = np.zeros((lapl_pyr[0].shape[0],lapl_pyr[0].shape[1]), dtype=np.float64)\n",
    "    for i in range(len(lapl_pyr)-1,0,-1):\n",
    "        lap = img_expand(lapl_pyr[i])\n",
    "        lapb = lapl_pyr[i-1]\n",
    "        if lap.shape[0] > lapb.shape[0]:\n",
    "            lap = np.delete(lap,(-1),axis=0)\n",
    "        if lap.shape[1] > lapb.shape[1]:\n",
    "            lap = np.delete(lap,(-1),axis=1)\n",
    "        tmp = lap + lapb\n",
    "        output = tmp\n",
    "    return output"
   ]
  },
  {
   "cell_type": "code",
   "execution_count": 45,
   "metadata": {},
   "outputs": [],
   "source": [
    "def process_channel(channel1,channel2,w1,w2,depth):\n",
    "    gauss_pyr_image1 = gauss_pyramid(channel1, depth)\n",
    "    gauss_pyr_image2 = gauss_pyramid(channel2, depth)\n",
    " \n",
    "    lp1 = lapl_pyramid(gauss_pyr_image1)\n",
    "    lp2 = lapl_pyramid(gauss_pyr_image2)\n",
    "    \n",
    "    fused_channel = np.array(w1)*lp1 + np.array(w2)*lp2\n",
    "    \n",
    "    return collapse(fused_channel)"
   ]
  },
  {
   "cell_type": "code",
   "execution_count": 46,
   "metadata": {},
   "outputs": [],
   "source": [
    "def balance_channel(channel1, channel2 , weight1, weight2, depth) :\n",
    "    channel = process_channel(channel1, channel2, weight1, weight2, depth)\n",
    "    channel[channel < 0] = 0\n",
    "    channel[channel > 255] = 255\n",
    "    channel = channel.astype(np.uint8)\n",
    "    return channel"
   ]
  },
  {
   "cell_type": "code",
   "execution_count": 55,
   "metadata": {},
   "outputs": [],
   "source": [
    "def main(img):\n",
    "    img1= simplest_cb(img,50)\n",
    "  \n",
    "    lab1= cv2.cvtColor(img1, cv2.COLOR_BGR2LAB)\n",
    "    lab3= lab1.copy()\n",
    "    #-----Splitting the LAB image to different channels-------------------------\n",
    "    l, a, b = cv2.split(lab3)\n",
    "\n",
    "    #-----Applying CLAHE to L-channel-------------------------------------------\n",
    "    clahe = cv2.createCLAHE(clipLimit=3.0, tileGridSize=(8,8))\n",
    "    cl = clahe.apply(l)\n",
    "\n",
    "    #-----Merge the CLAHE enhanced L-channel with the a and b channel-----------\n",
    "    lab2 = cv2.merge((cl,a,b))\n",
    "\n",
    "    #-----Converting image from LAB Color model to RGB model--------------------\n",
    "    img2 = cv2.cvtColor(lab2, cv2.COLOR_LAB2BGR)\n",
    "\n",
    "    R1 = np.double(lab1[:,:,0])/255\n",
    "    WL1= cv2.Laplacian(R1,cv2.CV_64F)\n",
    "    h= np.array([1,4,6,4,1])/16\n",
    "    filt= (h.T).dot(h)\n",
    "    WC1= cv2.filter2D(R1,cv2.CV_64F,filt)\n",
    "    for i in np.where(WC1>(math.pi/2.75)):\n",
    "        WC1[i]= math.pi/2.75\n",
    "    WC1= (R1-WC1)*(R1-WC1)\n",
    "    WS1= saliencyDetection(img1)\n",
    "    sigma= 0.25\n",
    "    aver= 0.5\n",
    "    WE1= np.exp(-(R1-aver)**2/(2*np.square(sigma)))\n",
    "\n",
    "    R2 = np.double(lab2[:,:,0])/255\n",
    "    WL2= cv2.Laplacian(R2,cv2.CV_64F)\n",
    "    h= np.array([1,4,6,4,1])/16\n",
    "    filt= (h.T).dot(h)\n",
    "    WC2= cv2.filter2D(R1,cv2.CV_64F,filt)\n",
    "    for i in np.where(WC2>(math.pi/2.75)):\n",
    "        WC2[i]= math.pi/2.75\n",
    "    WC2= (R2-WC2)*(R2-WC2)\n",
    "    WS2= saliencyDetection(img1)\n",
    "    sigma= 0.25\n",
    "    aver= 0.5\n",
    "    WE2= np.exp(-(R2-aver)**2/(2*np.square(sigma)))\n",
    "    W1 = (WL1 + WC1 + WS1 + WE1)/(WL1 + WC1 + WS1 + WE1 + WL2 + WC2 + WS2 + WE2)\n",
    "    W2 = (WL2 + WC2 + WS2 + WE2)/(WL1 + WC1 + WS1 + WE1 + WL2 + WC2 + WS2 + WE2)\n",
    "    \n",
    "    levels=5\n",
    "    Weight1= gauss_pyramid(W1,5)\n",
    "    Weight2= gauss_pyramid(W2,5)\n",
    "\n",
    "    (R1,G1,B1)= split_rgb(img1)\n",
    "    (R2,G2,B2)= split_rgb(img2)\n",
    "\n",
    "    depth=5 \n",
    "    R = balance_channel(R1,R2,Weight1,Weight2,depth)\n",
    "    G = balance_channel(G1,G2,Weight1,Weight2,depth)\n",
    "    B = balance_channel(B1,B2,Weight1,Weight2,depth)\n",
    "    \n",
    "    result = np.zeros(img.shape,dtype=img.dtype)\n",
    "    tmp = []\n",
    "    tmp.append(R)\n",
    "    tmp.append(G)\n",
    "    tmp.append(B)\n",
    "    result = cv2.merge(tmp,result)\n",
    "    return result"
   ]
  },
  {
   "cell_type": "code",
   "execution_count": 56,
   "metadata": {},
   "outputs": [],
   "source": [
    "img = cv2.imread('./images/underwater3.jpg')\n",
    "img = cv2.resize(img, (600,600), 2,2,cv2.INTER_AREA)\n",
    "result = main(img)\n",
    "cv2.imshow(\"Input\", img)\n",
    "cv2.imshow(\"Final\", result)\n",
    "cv2.waitKey()\n",
    "cv2.destroyAllWindows()"
   ]
  }
 ],
 "metadata": {
  "kernelspec": {
   "display_name": "Python 3",
   "language": "python",
   "name": "python3"
  },
  "language_info": {
   "codemirror_mode": {
    "name": "ipython",
    "version": 3
   },
   "file_extension": ".py",
   "mimetype": "text/x-python",
   "name": "python",
   "nbconvert_exporter": "python",
   "pygments_lexer": "ipython3",
   "version": "3.8.5"
  }
 },
 "nbformat": 4,
 "nbformat_minor": 4
}
